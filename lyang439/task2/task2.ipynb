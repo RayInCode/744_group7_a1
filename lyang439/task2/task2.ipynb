{
 "cells": [
  {
   "cell_type": "code",
   "execution_count": 5,
   "id": "6f0696cf-1520-4e35-981b-e1a5c7800893",
   "metadata": {},
   "outputs": [
    {
     "name": "stdout",
     "output_type": "stream",
     "text": [
      "24/02/08 21:38:25 WARN SparkConf: Note that spark.local.dir will be overridden by the value set by the cluster manager (via SPARK_LOCAL_DIRS in mesos/standalone/kubernetes and LOCAL_DIRS in YARN).\n"
     ]
    },
    {
     "name": "stderr",
     "output_type": "stream",
     "text": [
      "                                                                                \r"
     ]
    }
   ],
   "source": [
    "from pyspark.sql import SparkSession\n",
    "from pyspark.sql.functions import col, lit, sum as _sum, collect_list, size, explode\n",
    "from pyspark.sql.types import StructType, StructField, IntegerType, StringType\n",
    "\n",
    "spark = (SparkSession.builder.appName(\"part3_task2_conf_shuffle_400\")\n",
    "         .config(\"spark.driver.memory\", \"30g\")  # Sets the Spark driver memory to 30GB\n",
    "         .config(\"spark.executor.memory\", \"30g\")  # Sets the Spark executor memory to 30GB\n",
    "         .config(\"spark.executor.cores\", \"5\")  # Sets the number of cores for each executor to 5\n",
    "         .config(\"spark.task.cpus\", \"1\")  # Sets the number of cpus per task to be 1\n",
    "         .config(\"spark.eventLog.enabled\", \"true\")\n",
    "         .config(\"spark.eventLog.dir\", \"/mnt/data/spark-event-logs\")\n",
    "         .config(\"spark.local.dir\", \"/mnt/data/temp\") \n",
    "         .config(\"spark.sql.shuffle.partitions\", \"400\")\n",
    "         .master(\"spark://10.10.1.1:7077\")  \n",
    "         .getOrCreate())\n",
    "\n",
    "# Load data\n",
    "schema = StructType([\n",
    "    StructField(\"page\", StringType(), True),\n",
    "    StructField(\"link\", StringType(), True)\n",
    "])\n",
    "df = spark.read.csv(\"hdfs://10.10.1.1:9000/data/enwiki-pages-articles\", sep=\"\\t\", schema=schema)\n",
    "# print(f\"Number of df partitions: {df.rdd.getNumPartitions()}\")\n",
    "\n",
    "# Initialize page ranks\n",
    "pages = df.select(\"page\").distinct()\n",
    "# print(f\"Number of pages partitions: {pages.rdd.getNumPartitions()}\")\n",
    "\n",
    "\n",
    "links = df.groupBy(\"page\").agg(collect_list(\"link\").alias(\"links\"))\n",
    "# print(f\"Number of links partitions: {links.rdd.getNumPartitions()}\")\n",
    "\n",
    "ranks = pages.select(\"page\", lit(1).alias(\"rank\"))\n",
    "# print(f\"Number of ranks partitions: {ranks.rdd.getNumPartitions()}\")\n",
    "\n",
    "# Calculate PageRank\n",
    "for iteration in range(4):\n",
    "    contributions = links.join(ranks, \"page\").select(\"links\", (col(\"rank\") / size(\"links\")).alias(\"contribution\"))\n",
    "    # print(f\"Number of contributions1 partitions: {contributions.rdd.getNumPartitions()}\")\n",
    "    \n",
    "    contributions = contributions.withColumn(\"link\", explode(\"links\")).select(\"link\", \"contribution\")\n",
    "    # print(f\"Number of contributions2 partitions: {contributions.rdd.getNumPartitions()}\")\n",
    "    \n",
    "    ranks = contributions.groupBy(\"link\").agg(_sum(\"contribution\").alias(\"sum_contributions\"))\n",
    "    # print(f\"Number of ranks1 partitions: {ranks.rdd.getNumPartitions()}\")\n",
    "    \n",
    "    ranks = ranks.select(col(\"link\").alias(\"page\"), (lit(0.15) + lit(0.85) * col(\"sum_contributions\")).alias(\"rank\"))\n",
    "    # print(f\"Number of ranks2 partitions: {ranks.rdd.getNumPartitions()}\")\n",
    "    \n",
    "# Sort the ranks in descending order\n",
    "# print(f\"Number of ranks3 partitions: {ranks.rdd.getNumPartitions()}\")\n",
    "ranks = ranks.orderBy(col(\"rank\").desc())\n",
    "# print(f\"Number of ranks4 partitions: {ranks.rdd.getNumPartitions()}\")\n",
    "\n",
    "# Save results to HDFS\n",
    "ranks.repartition(3).write.format(\"csv\").mode(\"overwrite\").save(\"hdfs://10.10.1.1:9000/data/part3_task2_res\")\n",
    "\n",
    "spark.stop()"
   ]
  },
  {
   "cell_type": "code",
   "execution_count": 11,
   "id": "1ab65a89-5029-4996-bd0d-9879d7a17866",
   "metadata": {
    "tags": []
   },
   "outputs": [],
   "source": [
    "spark.stop()"
   ]
  },
  {
   "cell_type": "code",
   "execution_count": 5,
   "id": "fa23f6b1-4e8b-4590-ba4c-dc318007be3b",
   "metadata": {},
   "outputs": [
    {
     "name": "stdout",
     "output_type": "stream",
     "text": [
      "24/02/08 12:02:48 WARN SparkConf: Note that spark.local.dir will be overridden by the value set by the cluster manager (via SPARK_LOCAL_DIRS in mesos/standalone/kubernetes and LOCAL_DIRS in YARN).\n"
     ]
    },
    {
     "name": "stderr",
     "output_type": "stream",
     "text": [
      "[Stage 0:============================================>            (21 + 6) / 27]\r"
     ]
    },
    {
     "name": "stdout",
     "output_type": "stream",
     "text": [
      "Number of df partitions: 4\n"
     ]
    },
    {
     "name": "stderr",
     "output_type": "stream",
     "text": [
      "[Stage 6:=====================================>                    (9 + 5) / 14]\r"
     ]
    },
    {
     "name": "stdout",
     "output_type": "stream",
     "text": [
      "Number of pages partitions: 4\n"
     ]
    },
    {
     "name": "stderr",
     "output_type": "stream",
     "text": [
      "[Stage 12:====================================================>   (59 + 4) / 63]\r"
     ]
    },
    {
     "name": "stdout",
     "output_type": "stream",
     "text": [
      "Number of links partitions: 4\n"
     ]
    },
    {
     "name": "stderr",
     "output_type": "stream",
     "text": [
      "[Stage 15:>                                                         (0 + 4) / 4]\r"
     ]
    },
    {
     "name": "stdout",
     "output_type": "stream",
     "text": [
      "Number of ranks partitions: 4\n"
     ]
    },
    {
     "name": "stderr",
     "output_type": "stream",
     "text": [
      "[Stage 51:========================================>              (37 + 10) / 50]\r"
     ]
    },
    {
     "name": "stdout",
     "output_type": "stream",
     "text": [
      "Number of contributions partitions: 4\n"
     ]
    },
    {
     "name": "stderr",
     "output_type": "stream",
     "text": [
      "[Stage 90:=============================>                            (2 + 2) / 4]\r"
     ]
    },
    {
     "name": "stdout",
     "output_type": "stream",
     "text": [
      "Number of ranks 2 partitions: 4\n"
     ]
    },
    {
     "name": "stderr",
     "output_type": "stream",
     "text": [
      "[Stage 176:=================================================>     (45 + 5) / 50]\r"
     ]
    },
    {
     "name": "stdout",
     "output_type": "stream",
     "text": [
      "Number of contributions partitions: 4\n"
     ]
    },
    {
     "name": "stderr",
     "output_type": "stream",
     "text": [
      "[Stage 265:>                                                        (0 + 4) / 4]\r"
     ]
    },
    {
     "name": "stdout",
     "output_type": "stream",
     "text": [
      "Number of ranks 2 partitions: 4\n"
     ]
    },
    {
     "name": "stderr",
     "output_type": "stream",
     "text": [
      "[Stage 417:====================================>                 (34 + 10) / 50]\r"
     ]
    },
    {
     "name": "stdout",
     "output_type": "stream",
     "text": [
      "Number of contributions partitions: 4\n"
     ]
    },
    {
     "name": "stderr",
     "output_type": "stream",
     "text": [
      "[Stage 572:>                                                        (0 + 4) / 4]\r"
     ]
    },
    {
     "name": "stdout",
     "output_type": "stream",
     "text": [
      "Number of ranks 2 partitions: 4\n",
      "Number of ranks 3 partitions: 4\n"
     ]
    },
    {
     "name": "stderr",
     "output_type": "stream",
     "text": [
      "[Stage 826:================================>                        (4 + 3) / 7]\r"
     ]
    },
    {
     "name": "stdout",
     "output_type": "stream",
     "text": [
      "Number of ranks 4 partitions: 4\n"
     ]
    },
    {
     "name": "stderr",
     "output_type": "stream",
     "text": [
      "                                                                                \r"
     ]
    }
   ],
   "source": [
    "spark = (SparkSession.builder.appName(\"part3_task2_small\")\n",
    "         .config(\"spark.driver.memory\", \"30g\")  # Sets the Spark driver memory to 30GB\n",
    "         .config(\"spark.executor.memory\", \"30g\")  # Sets the Spark executor memory to 30GB\n",
    "         .config(\"spark.executor.cores\", \"5\")  # Sets the number of cores for each executor to 5\n",
    "         .config(\"spark.task.cpus\", \"1\")  # Sets the number of cpus per task to be 1\n",
    "         .config(\"spark.eventLog.enabled\", \"true\")\n",
    "         .config(\"spark.eventLog.dir\", \"/mnt/data/spark-event-logs\")\n",
    "         .config(\"spark.local.dir\", \"/mnt/data/temp\") \n",
    "         .master(\"spark://10.10.1.1:7077\")  \n",
    "         .getOrCreate())\n",
    "\n",
    "# Load data\n",
    "schema = StructType([\n",
    "    StructField(\"page\", StringType(), True),\n",
    "    StructField(\"link\", StringType(), True)\n",
    "])\n",
    "df = spark.read.csv(\"hdfs://10.10.1.1:9000/data/web-BerkStan.txt\", sep=\"\\t\", schema=schema).repartition(4)\n",
    "num_partitions = df.rdd.getNumPartitions()\n",
    "print(f\"Number of df partitions: {num_partitions}\")\n",
    "\n",
    "# Initialize page ranks\n",
    "pages = df.select(\"page\").distinct().repartition(4)\n",
    "num_partitions = pages.rdd.getNumPartitions()\n",
    "print(f\"Number of pages partitions: {num_partitions}\")\n",
    "\n",
    "links = df.groupBy(\"page\").agg(collect_list(\"link\").alias(\"links\")).repartition(4)\n",
    "num_partitions = links.rdd.getNumPartitions()\n",
    "print(f\"Number of links partitions: {num_partitions}\")\n",
    "\n",
    "ranks = pages.select(\"page\", lit(1).alias(\"rank\")).repartition(4)\n",
    "num_partitions = ranks.rdd.getNumPartitions()\n",
    "print(f\"Number of ranks partitions: {num_partitions}\")\n",
    "\n",
    "# Calculate PageRank\n",
    "for iteration in range(3):\n",
    "    contributions = links.join(ranks, \"page\").select(\"links\", (col(\"rank\") / size(\"links\")).alias(\"contribution\")).repartition(4)\n",
    "    contributions = contributions.withColumn(\"link\", explode(\"links\")).select(\"link\", \"contribution\")\n",
    "    num_partitions = contributions.rdd.getNumPartitions()\n",
    "    print(f\"Number of contributions partitions: {num_partitions}\")\n",
    "    \n",
    "    ranks = contributions.groupBy(\"link\").agg(_sum(\"contribution\").alias(\"sum_contributions\")).repartition(4)\n",
    "    ranks = ranks.select(col(\"link\").alias(\"page\"), (lit(0.15) + lit(0.85) * col(\"sum_contributions\")).alias(\"rank\"))\n",
    "    num_partitions = ranks.rdd.getNumPartitions()\n",
    "    print(f\"Number of ranks 2 partitions: {num_partitions}\")\n",
    "    \n",
    "# Sort the ranks in descending order\n",
    "num_partitions = ranks.rdd.getNumPartitions()\n",
    "print(f\"Number of ranks 3 partitions: {num_partitions}\")\n",
    "ranks = ranks.orderBy(col(\"rank\").desc()).repartition(4)\n",
    "num_partitions = ranks.rdd.getNumPartitions()\n",
    "print(f\"Number of ranks 4 partitions: {num_partitions}\")\n",
    "\n",
    "# Save results to HDFS\n",
    "ranks.write.format(\"csv\").mode(\"overwrite\").save(\"hdfs://10.10.1.1:9000/data/part3_task2_small_res\")\n",
    "\n",
    "spark.stop()"
   ]
  },
  {
   "cell_type": "code",
   "execution_count": null,
   "id": "c2b81d5d-8d6d-4559-86ac-97cb2d19a9fb",
   "metadata": {},
   "outputs": [],
   "source": []
  }
 ],
 "metadata": {
  "kernelspec": {
   "display_name": "Python 3 (ipykernel)",
   "language": "python",
   "name": "python3"
  },
  "language_info": {
   "codemirror_mode": {
    "name": "ipython",
    "version": 3
   },
   "file_extension": ".py",
   "mimetype": "text/x-python",
   "name": "python",
   "nbconvert_exporter": "python",
   "pygments_lexer": "ipython3",
   "version": "3.7.5"
  }
 },
 "nbformat": 4,
 "nbformat_minor": 5
}
