{
 "cells": [
  {
   "cell_type": "code",
   "execution_count": 1,
   "id": "73e6d839-9279-4daa-a948-d44663e53b4d",
   "metadata": {
    "tags": []
   },
   "outputs": [
    {
     "name": "stderr",
     "output_type": "stream",
     "text": [
      "Setting default log level to \"WARN\".\n",
      "To adjust logging level use sc.setLogLevel(newLevel). For SparkR, use setLogLevel(newLevel).\n"
     ]
    },
    {
     "name": "stdout",
     "output_type": "stream",
     "text": [
      "24/02/07 17:00:05 WARN NativeCodeLoader: Unable to load native-hadoop library for your platform... using builtin-java classes where applicable\n"
     ]
    },
    {
     "name": "stderr",
     "output_type": "stream",
     "text": [
      "                                                                                \r"
     ]
    }
   ],
   "source": [
    "from pyspark.sql import SparkSession\n",
    "from pyspark.sql.functions import col, lit, sum as _sum, collect_list, size, explode\n",
    "from pyspark.sql.types import StructType, StructField, IntegerType, StringType\n",
    "\n",
    "spark = (SparkSession.builder.appName(\"pageRank4_test0\")\n",
    "         .config(\"spark.driver.memory\", \"30g\")  # Sets the Spark driver memory to 30GB\n",
    "         .config(\"spark.executor.memory\", \"30g\")  # Sets the Spark executor memory to 30GB\n",
    "         .config(\"spark.executor.cores\", \"5\")  # Sets the number of cores for each executor to 5\n",
    "         .config(\"spark.task.cpus\", \"1\")  # Sets the number of cpus per task to be 1\n",
    "         .getOrCreate())\n",
    "\n",
    "# Load data\n",
    "schema = StructType([\n",
    "    StructField(\"page\", IntegerType(), True),\n",
    "    StructField(\"link\", IntegerType(), True)\n",
    "])\n",
    "df = spark.read.csv(\"hdfs://10.10.1.1:9000/data/web-BerkStan.txt\", sep=\"\\t\", schema=schema)\n",
    "\n",
    "# Initialize page ranks\n",
    "pages = df.select(\"page\").distinct()\n",
    "links = df.groupBy(\"page\").agg(collect_list(\"link\").alias(\"links\"))\n",
    "ranks = pages.select(\"page\", lit(1).alias(\"rank\"))\n",
    "\n",
    "# Calculate PageRank\n",
    "for iteration in range(1):\n",
    "    contributions = links.join(ranks, \"page\").select(\"links\", (col(\"rank\") / size(\"links\")).alias(\"contribution\"))\n",
    "    contributions = contributions.withColumn(\"link\", explode(\"links\")).select(\"link\", \"contribution\")\n",
    "    \n",
    "    ranks = contributions.groupBy(\"link\").agg(_sum(\"contribution\").alias(\"sum_contributions\"))\n",
    "    ranks = ranks.select(col(\"link\").alias(\"page\"), (lit(0.15) + lit(0.85) * col(\"sum_contributions\")).alias(\"rank\"))\n",
    "    \n",
    "# Sort the ranks in descending order\n",
    "ranks = ranks.orderBy(col(\"rank\").desc())\n",
    "\n",
    "# Save results to HDFS\n",
    "ranks.write.format(\"csv\").mode(\"overwrite\").save(\"hdfs://10.10.1.1:9000/data/pageRank_test\")\n",
    "\n",
    "spark.stop()"
   ]
  }
 ],
 "metadata": {
  "kernelspec": {
   "display_name": "Python 3 (ipykernel)",
   "language": "python",
   "name": "python3"
  },
  "language_info": {
   "codemirror_mode": {
    "name": "ipython",
    "version": 3
   },
   "file_extension": ".py",
   "mimetype": "text/x-python",
   "name": "python",
   "nbconvert_exporter": "python",
   "pygments_lexer": "ipython3",
   "version": "3.7.5"
  }
 },
 "nbformat": 4,
 "nbformat_minor": 5
}
