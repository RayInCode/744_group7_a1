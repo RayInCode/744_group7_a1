{
 "cells": [
  {
   "cell_type": "code",
   "execution_count": 1,
   "id": "cc4e8e8b-9c5f-45e5-bebf-8fa451639498",
   "metadata": {},
   "outputs": [
    {
     "name": "stderr",
     "output_type": "stream",
     "text": [
      "Setting default log level to \"WARN\".\n",
      "To adjust logging level use sc.setLogLevel(newLevel). For SparkR, use setLogLevel(newLevel).\n"
     ]
    },
    {
     "name": "stdout",
     "output_type": "stream",
     "text": [
      "24/02/08 15:13:38 WARN NativeCodeLoader: Unable to load native-hadoop library for your platform... using builtin-java classes where applicable\n",
      "24/02/08 15:13:38 WARN SparkConf: Note that spark.local.dir will be overridden by the value set by the cluster manager (via SPARK_LOCAL_DIRS in mesos/standalone/kubernetes and LOCAL_DIRS in YARN).\n"
     ]
    },
    {
     "name": "stderr",
     "output_type": "stream",
     "text": [
      "                                                                                \r"
     ]
    }
   ],
   "source": [
    "from pyspark.sql import SparkSession\n",
    "from pyspark.sql.functions import col, lit, sum as _sum, collect_list, size, explode\n",
    "from pyspark.sql.types import StructType, StructField, IntegerType, StringType\n",
    "\n",
    "spark = (SparkSession.builder.appName(\"pageRank4_enwiki_task3\")\n",
    "         .config(\"spark.driver.memory\", \"30g\")  # Sets the Spark driver memory to 30GB\n",
    "         .config(\"spark.executor.memory\", \"30g\")  # Sets the Spark executor memory to 30GB\n",
    "         .config(\"spark.executor.cores\", \"5\")  # Sets the number of cores for each executor to 5\n",
    "         .config(\"spark.task.cpus\", \"1\")  # Sets the number of cpus per task to be 1\n",
    "         .config(\"spark.eventLog.enabled\", \"true\")\n",
    "         .config(\"spark.eventLog.dir\", \"/mnt/data/spark-event-logs\")\n",
    "         .config(\"spark.local.dir\", \"/mnt/data/temp\") \n",
    "         .master(\"spark://10.10.1.1:7077\")  \n",
    "         .getOrCreate())\n",
    "\n",
    "# Load data\n",
    "schema = StructType([\n",
    "    StructField(\"page\", StringType(), True),\n",
    "    StructField(\"link\", StringType(), True)\n",
    "])\n",
    "df = spark.read.csv(\"hdfs://10.10.1.1:9000/data/enwiki-pages-articles\", sep=\"\\t\", schema=schema)\n",
    "num_partitions = df.rdd.getNumPartitions()\n",
    "\n",
    "# Initialize page ranks\n",
    "pages = df.select(\"page\").distinct()\n",
    "links = df.groupBy(\"page\").agg(collect_list(\"link\").alias(\"links\")).cache()\n",
    "ranks = pages.select(\"page\", lit(1).alias(\"rank\"))\n",
    "\n",
    "# Calculate PageRank\n",
    "for iteration in range(4):\n",
    "    contributions = links.join(ranks, \"page\").select(\"links\", (col(\"rank\") / size(\"links\")).alias(\"contribution\"))\n",
    "    \n",
    "    num_partitions = contributions.rdd.getNumPartitions()\n",
    "    \n",
    "    contributions = contributions.withColumn(\"link\", explode(\"links\")).select(\"link\", \"contribution\")\n",
    "    \n",
    "    ranks = contributions.groupBy(\"link\").agg(_sum(\"contribution\").alias(\"sum_contributions\"))\n",
    "    ranks = ranks.select(col(\"link\").alias(\"page\"), (lit(0.15) + lit(0.85) * col(\"sum_contributions\")).alias(\"rank\"))\n",
    "    \n",
    "# Sort the ranks in descending order\n",
    "ranks = ranks.orderBy(col(\"rank\").desc())\n",
    "\n",
    "# Save results to HDFS\n",
    "ranks.write.format(\"csv\").mode(\"overwrite\").save(\"hdfs://10.10.1.1:9000/data/pageRank_enwiki_task3_res\")\n",
    "\n",
    "spark.stop()"
   ]
  },
  {
   "cell_type": "code",
   "execution_count": 3,
   "id": "153c5fa4-b90e-463d-ae9d-46e5c3067b6d",
   "metadata": {
    "tags": []
   },
   "outputs": [
    {
     "ename": "ConnectionRefusedError",
     "evalue": "[Errno 111] Connection refused",
     "output_type": "error",
     "traceback": [
      "\u001b[0;31m---------------------------------------------------------------------------\u001b[0m",
      "\u001b[0;31mConnectionRefusedError\u001b[0m                    Traceback (most recent call last)",
      "\u001b[0;32m/tmp/ipykernel_14782/2218380179.py\u001b[0m in \u001b[0;36m<module>\u001b[0;34m\u001b[0m\n\u001b[0;32m----> 1\u001b[0;31m \u001b[0mspark\u001b[0m\u001b[0;34m.\u001b[0m\u001b[0mstop\u001b[0m\u001b[0;34m(\u001b[0m\u001b[0;34m)\u001b[0m\u001b[0;34m\u001b[0m\u001b[0;34m\u001b[0m\u001b[0m\n\u001b[0m",
      "\u001b[0;32m~/.local/lib/python3.7/site-packages/pyspark/sql/session.py\u001b[0m in \u001b[0;36mstop\u001b[0;34m(self)\u001b[0m\n\u001b[1;32m   1114\u001b[0m         \u001b[0;31m# We should clean the default session up. See SPARK-23228.\u001b[0m\u001b[0;34m\u001b[0m\u001b[0;34m\u001b[0m\u001b[0;34m\u001b[0m\u001b[0m\n\u001b[1;32m   1115\u001b[0m         \u001b[0;32massert\u001b[0m \u001b[0mself\u001b[0m\u001b[0;34m.\u001b[0m\u001b[0m_jvm\u001b[0m \u001b[0;32mis\u001b[0m \u001b[0;32mnot\u001b[0m \u001b[0;32mNone\u001b[0m\u001b[0;34m\u001b[0m\u001b[0;34m\u001b[0m\u001b[0m\n\u001b[0;32m-> 1116\u001b[0;31m         \u001b[0mself\u001b[0m\u001b[0;34m.\u001b[0m\u001b[0m_jvm\u001b[0m\u001b[0;34m.\u001b[0m\u001b[0mSparkSession\u001b[0m\u001b[0;34m.\u001b[0m\u001b[0mclearDefaultSession\u001b[0m\u001b[0;34m(\u001b[0m\u001b[0;34m)\u001b[0m\u001b[0;34m\u001b[0m\u001b[0;34m\u001b[0m\u001b[0m\n\u001b[0m\u001b[1;32m   1117\u001b[0m         \u001b[0mself\u001b[0m\u001b[0;34m.\u001b[0m\u001b[0m_jvm\u001b[0m\u001b[0;34m.\u001b[0m\u001b[0mSparkSession\u001b[0m\u001b[0;34m.\u001b[0m\u001b[0mclearActiveSession\u001b[0m\u001b[0;34m(\u001b[0m\u001b[0;34m)\u001b[0m\u001b[0;34m\u001b[0m\u001b[0;34m\u001b[0m\u001b[0m\n\u001b[1;32m   1118\u001b[0m         \u001b[0mSparkSession\u001b[0m\u001b[0;34m.\u001b[0m\u001b[0m_instantiatedSession\u001b[0m \u001b[0;34m=\u001b[0m \u001b[0;32mNone\u001b[0m\u001b[0;34m\u001b[0m\u001b[0;34m\u001b[0m\u001b[0m\n",
      "\u001b[0;32m~/.local/lib/python3.7/site-packages/py4j/java_gateway.py\u001b[0m in \u001b[0;36m__getattr__\u001b[0;34m(self, name)\u001b[0m\n\u001b[1;32m   1710\u001b[0m             \u001b[0mproto\u001b[0m\u001b[0;34m.\u001b[0m\u001b[0mREFLECTION_COMMAND_NAME\u001b[0m \u001b[0;34m+\u001b[0m\u001b[0;34m\u001b[0m\u001b[0;34m\u001b[0m\u001b[0m\n\u001b[1;32m   1711\u001b[0m             \u001b[0mproto\u001b[0m\u001b[0;34m.\u001b[0m\u001b[0mREFL_GET_UNKNOWN_SUB_COMMAND_NAME\u001b[0m \u001b[0;34m+\u001b[0m \u001b[0mname\u001b[0m \u001b[0;34m+\u001b[0m \u001b[0;34m\"\\n\"\u001b[0m \u001b[0;34m+\u001b[0m \u001b[0mself\u001b[0m\u001b[0;34m.\u001b[0m\u001b[0m_id\u001b[0m \u001b[0;34m+\u001b[0m\u001b[0;34m\u001b[0m\u001b[0;34m\u001b[0m\u001b[0m\n\u001b[0;32m-> 1712\u001b[0;31m             \"\\n\" + proto.END_COMMAND_PART)\n\u001b[0m\u001b[1;32m   1713\u001b[0m         \u001b[0;32mif\u001b[0m \u001b[0manswer\u001b[0m \u001b[0;34m==\u001b[0m \u001b[0mproto\u001b[0m\u001b[0;34m.\u001b[0m\u001b[0mSUCCESS_PACKAGE\u001b[0m\u001b[0;34m:\u001b[0m\u001b[0;34m\u001b[0m\u001b[0;34m\u001b[0m\u001b[0m\n\u001b[1;32m   1714\u001b[0m             \u001b[0;32mreturn\u001b[0m \u001b[0mJavaPackage\u001b[0m\u001b[0;34m(\u001b[0m\u001b[0mname\u001b[0m\u001b[0;34m,\u001b[0m \u001b[0mself\u001b[0m\u001b[0;34m.\u001b[0m\u001b[0m_gateway_client\u001b[0m\u001b[0;34m,\u001b[0m \u001b[0mjvm_id\u001b[0m\u001b[0;34m=\u001b[0m\u001b[0mself\u001b[0m\u001b[0;34m.\u001b[0m\u001b[0m_id\u001b[0m\u001b[0;34m)\u001b[0m\u001b[0;34m\u001b[0m\u001b[0;34m\u001b[0m\u001b[0m\n",
      "\u001b[0;32m~/.local/lib/python3.7/site-packages/py4j/java_gateway.py\u001b[0m in \u001b[0;36msend_command\u001b[0;34m(self, command, retry, binary)\u001b[0m\n\u001b[1;32m   1034\u001b[0m          \u001b[0;32mif\u001b[0m\u001b[0;31m \u001b[0m\u001b[0;31m`\u001b[0m\u001b[0mbinary\u001b[0m\u001b[0;31m`\u001b[0m \u001b[0;32mis\u001b[0m\u001b[0;31m \u001b[0m\u001b[0;31m`\u001b[0m\u001b[0;32mTrue\u001b[0m\u001b[0;31m`\u001b[0m\u001b[0;34m.\u001b[0m\u001b[0;34m\u001b[0m\u001b[0;34m\u001b[0m\u001b[0m\n\u001b[1;32m   1035\u001b[0m         \"\"\"\n\u001b[0;32m-> 1036\u001b[0;31m         \u001b[0mconnection\u001b[0m \u001b[0;34m=\u001b[0m \u001b[0mself\u001b[0m\u001b[0;34m.\u001b[0m\u001b[0m_get_connection\u001b[0m\u001b[0;34m(\u001b[0m\u001b[0;34m)\u001b[0m\u001b[0;34m\u001b[0m\u001b[0;34m\u001b[0m\u001b[0m\n\u001b[0m\u001b[1;32m   1037\u001b[0m         \u001b[0;32mtry\u001b[0m\u001b[0;34m:\u001b[0m\u001b[0;34m\u001b[0m\u001b[0;34m\u001b[0m\u001b[0m\n\u001b[1;32m   1038\u001b[0m             \u001b[0mresponse\u001b[0m \u001b[0;34m=\u001b[0m \u001b[0mconnection\u001b[0m\u001b[0;34m.\u001b[0m\u001b[0msend_command\u001b[0m\u001b[0;34m(\u001b[0m\u001b[0mcommand\u001b[0m\u001b[0;34m)\u001b[0m\u001b[0;34m\u001b[0m\u001b[0;34m\u001b[0m\u001b[0m\n",
      "\u001b[0;32m~/.local/lib/python3.7/site-packages/py4j/clientserver.py\u001b[0m in \u001b[0;36m_get_connection\u001b[0;34m(self)\u001b[0m\n\u001b[1;32m    282\u001b[0m \u001b[0;34m\u001b[0m\u001b[0m\n\u001b[1;32m    283\u001b[0m         \u001b[0;32mif\u001b[0m \u001b[0mconnection\u001b[0m \u001b[0;32mis\u001b[0m \u001b[0;32mNone\u001b[0m \u001b[0;32mor\u001b[0m \u001b[0mconnection\u001b[0m\u001b[0;34m.\u001b[0m\u001b[0msocket\u001b[0m \u001b[0;32mis\u001b[0m \u001b[0;32mNone\u001b[0m\u001b[0;34m:\u001b[0m\u001b[0;34m\u001b[0m\u001b[0;34m\u001b[0m\u001b[0m\n\u001b[0;32m--> 284\u001b[0;31m             \u001b[0mconnection\u001b[0m \u001b[0;34m=\u001b[0m \u001b[0mself\u001b[0m\u001b[0;34m.\u001b[0m\u001b[0m_create_new_connection\u001b[0m\u001b[0;34m(\u001b[0m\u001b[0;34m)\u001b[0m\u001b[0;34m\u001b[0m\u001b[0;34m\u001b[0m\u001b[0m\n\u001b[0m\u001b[1;32m    285\u001b[0m         \u001b[0;32mreturn\u001b[0m \u001b[0mconnection\u001b[0m\u001b[0;34m\u001b[0m\u001b[0;34m\u001b[0m\u001b[0m\n\u001b[1;32m    286\u001b[0m \u001b[0;34m\u001b[0m\u001b[0m\n",
      "\u001b[0;32m~/.local/lib/python3.7/site-packages/py4j/clientserver.py\u001b[0m in \u001b[0;36m_create_new_connection\u001b[0;34m(self)\u001b[0m\n\u001b[1;32m    289\u001b[0m             \u001b[0mself\u001b[0m\u001b[0;34m.\u001b[0m\u001b[0mjava_parameters\u001b[0m\u001b[0;34m,\u001b[0m \u001b[0mself\u001b[0m\u001b[0;34m.\u001b[0m\u001b[0mpython_parameters\u001b[0m\u001b[0;34m,\u001b[0m\u001b[0;34m\u001b[0m\u001b[0;34m\u001b[0m\u001b[0m\n\u001b[1;32m    290\u001b[0m             self.gateway_property, self)\n\u001b[0;32m--> 291\u001b[0;31m         \u001b[0mconnection\u001b[0m\u001b[0;34m.\u001b[0m\u001b[0mconnect_to_java_server\u001b[0m\u001b[0;34m(\u001b[0m\u001b[0;34m)\u001b[0m\u001b[0;34m\u001b[0m\u001b[0;34m\u001b[0m\u001b[0m\n\u001b[0m\u001b[1;32m    292\u001b[0m         \u001b[0mself\u001b[0m\u001b[0;34m.\u001b[0m\u001b[0mset_thread_connection\u001b[0m\u001b[0;34m(\u001b[0m\u001b[0mconnection\u001b[0m\u001b[0;34m)\u001b[0m\u001b[0;34m\u001b[0m\u001b[0;34m\u001b[0m\u001b[0m\n\u001b[1;32m    293\u001b[0m         \u001b[0;32mreturn\u001b[0m \u001b[0mconnection\u001b[0m\u001b[0;34m\u001b[0m\u001b[0;34m\u001b[0m\u001b[0m\n",
      "\u001b[0;32m~/.local/lib/python3.7/site-packages/py4j/clientserver.py\u001b[0m in \u001b[0;36mconnect_to_java_server\u001b[0;34m(self)\u001b[0m\n\u001b[1;32m    436\u001b[0m                 self.socket = self.ssl_context.wrap_socket(\n\u001b[1;32m    437\u001b[0m                     self.socket, server_hostname=self.java_address)\n\u001b[0;32m--> 438\u001b[0;31m             \u001b[0mself\u001b[0m\u001b[0;34m.\u001b[0m\u001b[0msocket\u001b[0m\u001b[0;34m.\u001b[0m\u001b[0mconnect\u001b[0m\u001b[0;34m(\u001b[0m\u001b[0;34m(\u001b[0m\u001b[0mself\u001b[0m\u001b[0;34m.\u001b[0m\u001b[0mjava_address\u001b[0m\u001b[0;34m,\u001b[0m \u001b[0mself\u001b[0m\u001b[0;34m.\u001b[0m\u001b[0mjava_port\u001b[0m\u001b[0;34m)\u001b[0m\u001b[0;34m)\u001b[0m\u001b[0;34m\u001b[0m\u001b[0;34m\u001b[0m\u001b[0m\n\u001b[0m\u001b[1;32m    439\u001b[0m             \u001b[0mself\u001b[0m\u001b[0;34m.\u001b[0m\u001b[0mstream\u001b[0m \u001b[0;34m=\u001b[0m \u001b[0mself\u001b[0m\u001b[0;34m.\u001b[0m\u001b[0msocket\u001b[0m\u001b[0;34m.\u001b[0m\u001b[0mmakefile\u001b[0m\u001b[0;34m(\u001b[0m\u001b[0;34m\"rb\"\u001b[0m\u001b[0;34m)\u001b[0m\u001b[0;34m\u001b[0m\u001b[0;34m\u001b[0m\u001b[0m\n\u001b[1;32m    440\u001b[0m             \u001b[0mself\u001b[0m\u001b[0;34m.\u001b[0m\u001b[0mis_connected\u001b[0m \u001b[0;34m=\u001b[0m \u001b[0;32mTrue\u001b[0m\u001b[0;34m\u001b[0m\u001b[0;34m\u001b[0m\u001b[0m\n",
      "\u001b[0;31mConnectionRefusedError\u001b[0m: [Errno 111] Connection refused"
     ]
    }
   ],
   "source": [
    "spark.stop()"
   ]
  },
  {
   "cell_type": "code",
   "execution_count": 10,
   "id": "9eb7f536-b9f4-407d-9cfa-af3688279ad5",
   "metadata": {
    "tags": []
   },
   "outputs": [
    {
     "name": "stdout",
     "output_type": "stream",
     "text": [
      "24/02/08 15:59:32 WARN SparkConf: Note that spark.local.dir will be overridden by the value set by the cluster manager (via SPARK_LOCAL_DIRS in mesos/standalone/kubernetes and LOCAL_DIRS in YARN).\n"
     ]
    },
    {
     "name": "stderr",
     "output_type": "stream",
     "text": [
      "                                                                                \r"
     ]
    }
   ],
   "source": [
    "from pyspark.sql import SparkSession\n",
    "from pyspark.sql.functions import col, lit, sum as _sum, collect_list, size, explode\n",
    "from pyspark.sql.types import StructType, StructField, IntegerType, StringType\n",
    "from pyspark.storagelevel import StorageLevel\n",
    "\n",
    "spark = (SparkSession.builder.appName(\"pageRank4_enwiki_task3_DISK\")\n",
    "         .config(\"spark.driver.memory\", \"30g\")  # Sets the Spark driver memory to 30GB\n",
    "         .config(\"spark.executor.memory\", \"30g\")  # Sets the Spark executor memory to 30GB\n",
    "         .config(\"spark.executor.cores\", \"5\")  # Sets the number of cores for each executor to 5\n",
    "         .config(\"spark.task.cpus\", \"1\")  # Sets the number of cpus per task to be 1\n",
    "         .config(\"spark.eventLog.enabled\", \"true\")\n",
    "         .config(\"spark.eventLog.dir\", \"/mnt/data/spark-event-logs\")\n",
    "         .config(\"spark.local.dir\", \"/mnt/data/temp\") \n",
    "         .master(\"spark://10.10.1.1:7077\")  \n",
    "         .getOrCreate())\n",
    "\n",
    "# Load data\n",
    "schema = StructType([\n",
    "    StructField(\"page\", StringType(), True),\n",
    "    StructField(\"link\", StringType(), True)\n",
    "])\n",
    "df = spark.read.csv(\"hdfs://10.10.1.1:9000/data/enwiki-pages-articles\", sep=\"\\t\", schema=schema)\n",
    "num_partitions = df.rdd.getNumPartitions()\n",
    "\n",
    "# Initialize page ranks\n",
    "pages = df.select(\"page\").distinct()\n",
    "links = df.groupBy(\"page\").agg(collect_list(\"link\").alias(\"links\")).persist(StorageLevel.DISK_ONLY)\n",
    "ranks = pages.select(\"page\", lit(1).alias(\"rank\"))\n",
    "\n",
    "# Calculate PageRank\n",
    "for iteration in range(4):\n",
    "    contributions = links.join(ranks, \"page\").select(\"links\", (col(\"rank\") / size(\"links\")).alias(\"contribution\"))\n",
    "    \n",
    "    num_partitions = contributions.rdd.getNumPartitions()\n",
    "    \n",
    "    contributions = contributions.withColumn(\"link\", explode(\"links\")).select(\"link\", \"contribution\")\n",
    "    \n",
    "    ranks = contributions.groupBy(\"link\").agg(_sum(\"contribution\").alias(\"sum_contributions\"))\n",
    "    ranks = ranks.select(col(\"link\").alias(\"page\"), (lit(0.15) + lit(0.85) * col(\"sum_contributions\")).alias(\"rank\"))\n",
    "    \n",
    "# Sort the ranks in descending order\n",
    "ranks = ranks.orderBy(col(\"rank\").desc())\n",
    "\n",
    "# Save results to HDFS\n",
    "ranks.write.format(\"csv\").mode(\"overwrite\").save(\"hdfs://10.10.1.1:9000/data/pageRank_enwiki_task3_res\")\n",
    "\n",
    "spark.stop()"
   ]
  },
  {
   "cell_type": "code",
   "execution_count": 7,
   "id": "3717bd96-04e1-425e-9cc9-249b8928d977",
   "metadata": {
    "tags": []
   },
   "outputs": [],
   "source": [
    "spark.stop()"
   ]
  },
  {
   "cell_type": "code",
   "execution_count": 8,
   "id": "395da2d2-cae7-42e9-a569-2fad8f7b71de",
   "metadata": {
    "tags": []
   },
   "outputs": [
    {
     "name": "stdout",
     "output_type": "stream",
     "text": [
      "['DISK_ONLY', 'DISK_ONLY_2', 'DISK_ONLY_3', 'MEMORY_AND_DISK', 'MEMORY_AND_DISK_2', 'MEMORY_AND_DISK_DESER', 'MEMORY_ONLY', 'MEMORY_ONLY_2', 'OFF_HEAP', '__annotations__', '__class__', '__delattr__', '__dict__', '__dir__', '__doc__', '__eq__', '__format__', '__ge__', '__getattribute__', '__gt__', '__hash__', '__init__', '__init_subclass__', '__le__', '__lt__', '__module__', '__ne__', '__new__', '__reduce__', '__reduce_ex__', '__repr__', '__setattr__', '__sizeof__', '__str__', '__subclasshook__', '__weakref__']\n"
     ]
    }
   ],
   "source": [
    "print(dir(StorageLevel))\n"
   ]
  },
  {
   "cell_type": "markdown",
   "id": "4d7334ac-2059-42a9-8154-3b4071b61498",
   "metadata": {},
   "source": [
    "# Benchmark"
   ]
  },
  {
   "cell_type": "code",
   "execution_count": null,
   "id": "0586aa20-baa5-4e68-bf46-41606b6f9d3e",
   "metadata": {
    "tags": []
   },
   "outputs": [],
   "source": [
    "from pyspark.sql import SparkSession\n",
    "from pyspark.sql.functions import col, lit, sum as _sum, collect_list, size, explode\n",
    "from pyspark.sql.types import StructType, StructField, IntegerType, StringType\n",
    "\n",
    "spark = (SparkSession.builder.appName(\"pageRank4_enwiki_task3\")\n",
    "         .config(\"spark.driver.memory\", \"30g\")  # Sets the Spark driver memory to 30GB\n",
    "         .config(\"spark.executor.memory\", \"30g\")  # Sets the Spark executor memory to 30GB\n",
    "         .config(\"spark.executor.cores\", \"5\")  # Sets the number of cores for each executor to 5\n",
    "         .config(\"spark.task.cpus\", \"1\")  # Sets the number of cpus per task to be 1\n",
    "         .config(\"spark.eventLog.enabled\", \"true\")\n",
    "         .config(\"spark.eventLog.dir\", \"/mnt/data/spark-event-logs\")\n",
    "         .config(\"spark.local.dir\", \"/mnt/data/temp\") \n",
    "         .master(\"spark://10.10.1.1:7077\")  \n",
    "         .getOrCreate())\n",
    "\n",
    "# Load data\n",
    "schema = StructType([\n",
    "    StructField(\"page\", StringType(), True),\n",
    "    StructField(\"link\", StringType(), True)\n",
    "])\n",
    "df = spark.read.csv(\"hdfs://10.10.1.1:9000/data/enwiki-pages-articles\", sep=\"\\t\", schema=schema)\n",
    "\n",
    "# Initialize page ranks\n",
    "pages = df.select(\"page\").distinct()\n",
    "links = df.groupBy(\"page\").agg(collect_list(\"link\").alias(\"links\"))\n",
    "ranks = pages.select(\"page\", lit(1).alias(\"rank\"))\n",
    "\n",
    "# Calculate PageRank\n",
    "for iteration in range(4):\n",
    "    contributions = links.join(ranks, \"page\").select(\"links\", (col(\"rank\") / size(\"links\")).alias(\"contribution\"))\n",
    "    contributions = contributions.withColumn(\"link\", explode(\"links\")).select(\"link\", \"contribution\")\n",
    "    \n",
    "    ranks = contributions.groupBy(\"link\").agg(_sum(\"contribution\").alias(\"sum_contributions\"))\n",
    "    ranks = ranks.select(col(\"link\").alias(\"page\"), (lit(0.15) + lit(0.85) * col(\"sum_contributions\")).alias(\"rank\"))\n",
    "    \n",
    "# Sort the ranks in descending order\n",
    "ranks = ranks.orderBy(col(\"rank\").desc())\n",
    "\n",
    "# Save results to HDFS\n",
    "ranks.write.format(\"csv\").mode(\"overwrite\").save(\"hdfs://10.10.1.1:9000/data/pageRank_enwiki_task1_res\")\n",
    "\n",
    "spark.stop()"
   ]
  }
 ],
 "metadata": {
  "kernelspec": {
   "display_name": "Python 3 (ipykernel)",
   "language": "python",
   "name": "python3"
  },
  "language_info": {
   "codemirror_mode": {
    "name": "ipython",
    "version": 3
   },
   "file_extension": ".py",
   "mimetype": "text/x-python",
   "name": "python",
   "nbconvert_exporter": "python",
   "pygments_lexer": "ipython3",
   "version": "3.7.5"
  }
 },
 "nbformat": 4,
 "nbformat_minor": 5
}
