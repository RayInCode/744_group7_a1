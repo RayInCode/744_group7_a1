{
 "cells": [
  {
   "cell_type": "code",
   "execution_count": 1,
   "id": "19a35397-43e4-41ff-a9d3-490b480ffec9",
   "metadata": {
    "tags": []
   },
   "outputs": [
    {
     "name": "stdout",
     "output_type": "stream",
     "text": [
      "Configured Capacity: 302585180160 (281.80 GB)\n",
      "Present Capacity: 287068418048 (267.35 GB)\n",
      "DFS Remaining: 287067594752 (267.35 GB)\n",
      "DFS Used: 823296 (804 KB)\n",
      "DFS Used%: 0.00%\n",
      "Replicated Blocks:\n",
      "\tUnder replicated blocks: 0\n",
      "\tBlocks with corrupt replicas: 0\n",
      "\tMissing blocks: 0\n",
      "\tMissing blocks (with replication factor 1): 0\n",
      "\tLow redundancy blocks with highest priority to recover: 0\n",
      "\tPending deletion blocks: 0\n",
      "Erasure Coded Block Groups: \n",
      "\tLow redundancy block groups: 0\n",
      "\tBlock groups with corrupt internal blocks: 0\n",
      "\tMissing block groups: 0\n",
      "\tLow redundancy blocks with highest priority to recover: 0\n",
      "\tPending deletion blocks: 0\n",
      "\n",
      "-------------------------------------------------\n",
      "Live datanodes (3):\n",
      "\n",
      "Name: 10.10.1.1:9866 (node0-link-1)\n",
      "Hostname: c220g5-111221vm-1.wisc.cloudlab.us\n",
      "Decommission Status : Normal\n",
      "Configured Capacity: 100861726720 (93.93 GB)\n",
      "DFS Used: 274432 (268 KB)\n",
      "Non DFS Used: 4452352 (4.25 MB)\n",
      "DFS Remaining: 95686262784 (89.11 GB)\n",
      "DFS Used%: 0.00%\n",
      "DFS Remaining%: 94.87%\n",
      "Configured Cache Capacity: 0 (0 B)\n",
      "Cache Used: 0 (0 B)\n",
      "Cache Remaining: 0 (0 B)\n",
      "Cache Used%: 100.00%\n",
      "Cache Remaining%: 0.00%\n",
      "Xceivers: 0\n",
      "Last contact: Sun Feb 04 10:04:09 MST 2024\n",
      "Last Block Report: Sun Feb 04 05:45:46 MST 2024\n",
      "Num of Blocks: 2\n",
      "\n",
      "\n",
      "Name: 10.10.1.2:9866 (node1-link-1)\n",
      "Hostname: c220g5-111221vm-2.wisc.cloudlab.us\n",
      "Decommission Status : Normal\n",
      "Configured Capacity: 100861726720 (93.93 GB)\n",
      "DFS Used: 274432 (268 KB)\n",
      "Non DFS Used: 49152 (48 KB)\n",
      "DFS Remaining: 95690665984 (89.12 GB)\n",
      "DFS Used%: 0.00%\n",
      "DFS Remaining%: 94.87%\n",
      "Configured Cache Capacity: 0 (0 B)\n",
      "Cache Used: 0 (0 B)\n",
      "Cache Remaining: 0 (0 B)\n",
      "Cache Used%: 100.00%\n",
      "Cache Remaining%: 0.00%\n",
      "Xceivers: 0\n",
      "Last contact: Sun Feb 04 10:04:08 MST 2024\n",
      "Last Block Report: Sun Feb 04 08:24:22 MST 2024\n",
      "Num of Blocks: 2\n",
      "\n",
      "\n",
      "Name: 10.10.1.3:9866 (node2-link-1)\n",
      "Hostname: c220g5-111221vm-3.wisc.cloudlab.us\n",
      "Decommission Status : Normal\n",
      "Configured Capacity: 100861726720 (93.93 GB)\n",
      "DFS Used: 274432 (268 KB)\n",
      "Non DFS Used: 49152 (48 KB)\n",
      "DFS Remaining: 95690665984 (89.12 GB)\n",
      "DFS Used%: 0.00%\n",
      "DFS Remaining%: 94.87%\n",
      "Configured Cache Capacity: 0 (0 B)\n",
      "Cache Used: 0 (0 B)\n",
      "Cache Remaining: 0 (0 B)\n",
      "Cache Used%: 100.00%\n",
      "Cache Remaining%: 0.00%\n",
      "Xceivers: 0\n",
      "Last contact: Sun Feb 04 10:04:08 MST 2024\n",
      "Last Block Report: Sun Feb 04 06:22:31 MST 2024\n",
      "Num of Blocks: 2\n",
      "\n",
      "\n"
     ]
    }
   ],
   "source": [
    "!hdfs dfsadmin -report"
   ]
  },
  {
   "cell_type": "code",
   "execution_count": null,
   "id": "f4b3309f-b438-4d52-9d65-b826cf97490d",
   "metadata": {},
   "outputs": [],
   "source": []
  }
 ],
 "metadata": {
  "kernelspec": {
   "display_name": "Python 3 (ipykernel)",
   "language": "python",
   "name": "python3"
  },
  "language_info": {
   "codemirror_mode": {
    "name": "ipython",
    "version": 3
   },
   "file_extension": ".py",
   "mimetype": "text/x-python",
   "name": "python",
   "nbconvert_exporter": "python",
   "pygments_lexer": "ipython3",
   "version": "3.7.5"
  }
 },
 "nbformat": 4,
 "nbformat_minor": 5
}
