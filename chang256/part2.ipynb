{
 "cells": [
  {
   "cell_type": "code",
   "execution_count": 1,
   "id": "c0a1b77e-41b5-4687-a742-3e8ed0c946e8",
   "metadata": {
    "tags": []
   },
   "outputs": [
    {
     "name": "stdout",
     "output_type": "stream",
     "text": [
      "Configured Capacity: 302585180160 (281.80 GB)\n",
      "Present Capacity: 287068499968 (267.35 GB)\n",
      "DFS Remaining: 287067676672 (267.35 GB)\n",
      "DFS Used: 823296 (804 KB)\n",
      "DFS Used%: 0.00%\n",
      "Replicated Blocks:\n",
      "\tUnder replicated blocks: 0\n",
      "\tBlocks with corrupt replicas: 0\n",
      "\tMissing blocks: 0\n",
      "\tMissing blocks (with replication factor 1): 0\n",
      "\tLow redundancy blocks with highest priority to recover: 0\n",
      "\tPending deletion blocks: 0\n",
      "Erasure Coded Block Groups: \n",
      "\tLow redundancy block groups: 0\n",
      "\tBlock groups with corrupt internal blocks: 0\n",
      "\tMissing block groups: 0\n",
      "\tLow redundancy blocks with highest priority to recover: 0\n",
      "\tPending deletion blocks: 0\n",
      "\n",
      "-------------------------------------------------\n",
      "Live datanodes (3):\n",
      "\n",
      "Name: 10.10.1.1:9866 (node0-link-1)\n",
      "Hostname: c220g5-111221vm-1.wisc.cloudlab.us\n",
      "Decommission Status : Normal\n",
      "Configured Capacity: 100861726720 (93.93 GB)\n",
      "DFS Used: 274432 (268 KB)\n",
      "Non DFS Used: 4370432 (4.17 MB)\n",
      "DFS Remaining: 95686344704 (89.11 GB)\n",
      "DFS Used%: 0.00%\n",
      "DFS Remaining%: 94.87%\n",
      "Configured Cache Capacity: 0 (0 B)\n",
      "Cache Used: 0 (0 B)\n",
      "Cache Remaining: 0 (0 B)\n",
      "Cache Used%: 100.00%\n",
      "Cache Remaining%: 0.00%\n",
      "Xceivers: 0\n",
      "Last contact: Sat Feb 03 13:47:16 MST 2024\n",
      "Last Block Report: Sat Feb 03 13:43:13 MST 2024\n",
      "Num of Blocks: 2\n",
      "\n",
      "\n",
      "Name: 10.10.1.2:9866 (node1-link-1)\n",
      "Hostname: c220g5-111221vm-2.wisc.cloudlab.us\n",
      "Decommission Status : Normal\n",
      "Configured Capacity: 100861726720 (93.93 GB)\n",
      "DFS Used: 274432 (268 KB)\n",
      "Non DFS Used: 49152 (48 KB)\n",
      "DFS Remaining: 95690665984 (89.12 GB)\n",
      "DFS Used%: 0.00%\n",
      "DFS Remaining%: 94.87%\n",
      "Configured Cache Capacity: 0 (0 B)\n",
      "Cache Used: 0 (0 B)\n",
      "Cache Remaining: 0 (0 B)\n",
      "Cache Used%: 100.00%\n",
      "Cache Remaining%: 0.00%\n",
      "Xceivers: 0\n",
      "Last contact: Sat Feb 03 13:47:16 MST 2024\n",
      "Last Block Report: Sat Feb 03 13:43:13 MST 2024\n",
      "Num of Blocks: 2\n",
      "\n",
      "\n",
      "Name: 10.10.1.3:9866 (node2-link-1)\n",
      "Hostname: c220g5-111221vm-3.wisc.cloudlab.us\n",
      "Decommission Status : Normal\n",
      "Configured Capacity: 100861726720 (93.93 GB)\n",
      "DFS Used: 274432 (268 KB)\n",
      "Non DFS Used: 49152 (48 KB)\n",
      "DFS Remaining: 95690665984 (89.12 GB)\n",
      "DFS Used%: 0.00%\n",
      "DFS Remaining%: 94.87%\n",
      "Configured Cache Capacity: 0 (0 B)\n",
      "Cache Used: 0 (0 B)\n",
      "Cache Remaining: 0 (0 B)\n",
      "Cache Used%: 100.00%\n",
      "Cache Remaining%: 0.00%\n",
      "Xceivers: 0\n",
      "Last contact: Sat Feb 03 13:47:16 MST 2024\n",
      "Last Block Report: Sat Feb 03 13:43:13 MST 2024\n",
      "Num of Blocks: 2\n",
      "\n",
      "\n"
     ]
    }
   ],
   "source": [
    "!hdfs dfsadmin -report"
   ]
  },
  {
   "cell_type": "code",
   "execution_count": 2,
   "id": "0b62edbc-c433-4e80-a469-07b73708a88e",
   "metadata": {},
   "outputs": [
    {
     "name": "stdout",
     "output_type": "stream",
     "text": [
      "{'url': 'spark://10.10.1.1:7077', 'workers': [{'id': 'worker-20240203000733-10.10.1.3-35519', 'host': '10.10.1.3', 'port': 35519, 'webuiaddress': 'http://10.10.1.3:8081', 'cores': 5, 'coresused': 0, 'coresfree': 5, 'memory': 31079, 'memoryused': 0, 'memoryfree': 31079, 'resources': {}, 'resourcesused': {}, 'resourcesfree': {}, 'state': 'ALIVE', 'lastheartbeat': 1706993239327}, {'id': 'worker-20240203000732-10.10.1.2-36699', 'host': '10.10.1.2', 'port': 36699, 'webuiaddress': 'http://10.10.1.2:8081', 'cores': 5, 'coresused': 0, 'coresfree': 5, 'memory': 31079, 'memoryused': 0, 'memoryfree': 31079, 'resources': {}, 'resourcesused': {}, 'resourcesfree': {}, 'state': 'ALIVE', 'lastheartbeat': 1706993239268}, {'id': 'worker-20240203000733-10.10.1.1-46595', 'host': '10.10.1.1', 'port': 46595, 'webuiaddress': 'http://10.10.1.1:8081', 'cores': 5, 'coresused': 0, 'coresfree': 5, 'memory': 31079, 'memoryused': 0, 'memoryfree': 31079, 'resources': {}, 'resourcesused': {}, 'resourcesfree': {}, 'state': 'ALIVE', 'lastheartbeat': 1706993239266}], 'aliveworkers': 3, 'cores': 15, 'coresused': 0, 'memory': 93237, 'memoryused': 0, 'resources': [{}, {}, {}], 'resourcesused': [{}, {}, {}], 'activeapps': [], 'completedapps': [], 'activedrivers': [], 'completeddrivers': [], 'status': 'ALIVE'}\n"
     ]
    }
   ],
   "source": [
    "import requests\n",
    "\n",
    "master_url = 'http://10.10.1.1:8080/json/'\n",
    "\n",
    "# Fetch the details\n",
    "response = requests.get(master_url)\n",
    "data = response.json()\n",
    "\n",
    "# Print out the data\n",
    "print(data)\n"
   ]
  },
  {
   "cell_type": "code",
   "execution_count": 3,
   "id": "d4cff703-e9c6-4c73-93d5-889a6f512c53",
   "metadata": {},
   "outputs": [
    {
     "name": "stdout",
     "output_type": "stream",
     "text": [
      "--2024-02-03 14:47:33--  http://pages.cs.wisc.edu/~shivaram/cs744-fa18/assets/export.csv\n",
      "Resolving pages.cs.wisc.edu (pages.cs.wisc.edu)... 128.105.7.9\n",
      "Connecting to pages.cs.wisc.edu (pages.cs.wisc.edu)|128.105.7.9|:80... connected.\n",
      "HTTP request sent, awaiting response... 302 Found\n",
      "Location: https://pages.cs.wisc.edu/~shivaram/cs744-fa18/assets/export.csv [following]\n",
      "--2024-02-03 14:47:33--  https://pages.cs.wisc.edu/~shivaram/cs744-fa18/assets/export.csv\n",
      "Connecting to pages.cs.wisc.edu (pages.cs.wisc.edu)|128.105.7.9|:443... connected.\n",
      "HTTP request sent, awaiting response... 200 OK\n",
      "Length: 109949 (107K) [text/csv]\n",
      "Saving to: ‘/users/lyang439/export.csv’\n",
      "\n",
      "/users/lyang439/exp 100%[===================>] 107.37K  --.-KB/s    in 0.004s  \n",
      "\n",
      "2024-02-03 14:47:33 (24.4 MB/s) - ‘/users/lyang439/export.csv’ saved [109949/109949]\n",
      "\n"
     ]
    }
   ],
   "source": [
    "!wget -O /users/lyang439/export.csv http://pages.cs.wisc.edu/~shivaram/cs744-fa18/assets/export.csv"
   ]
  },
  {
   "cell_type": "code",
   "execution_count": 4,
   "id": "e808d703-4075-4166-bbdc-47fb74ff499b",
   "metadata": {},
   "outputs": [
    {
     "name": "stdout",
     "output_type": "stream",
     "text": [
      "mkdir: `/data': File exists\n"
     ]
    }
   ],
   "source": [
    "!hdfs dfs -mkdir /data"
   ]
  },
  {
   "cell_type": "code",
   "execution_count": 5,
   "id": "8d1741c5-1798-497b-921f-ec6ccc9d29d9",
   "metadata": {
    "tags": []
   },
   "outputs": [
    {
     "name": "stdout",
     "output_type": "stream",
     "text": [
      "Found 1 items\n",
      "drwxr-xr-x   - lyang439 supergroup          0 2024-02-03 00:44 /data\n"
     ]
    }
   ],
   "source": [
    "!hdfs dfs -ls /"
   ]
  },
  {
   "cell_type": "code",
   "execution_count": 8,
   "id": "ca4395b5-c563-41ca-8342-e748dcd74e2e",
   "metadata": {},
   "outputs": [],
   "source": [
    "!hdfs dfs -put ~/export.csv /data"
   ]
  },
  {
   "cell_type": "code",
   "execution_count": 9,
   "id": "a8c28027-c905-4a24-8875-7fe92ffd510e",
   "metadata": {},
   "outputs": [
    {
     "name": "stdout",
     "output_type": "stream",
     "text": [
      "Found 1 items\n",
      "-rw-r--r--   3 lyang439 supergroup     109949 2024-02-03 00:44 /data/export.csv\n"
     ]
    }
   ],
   "source": [
    "!hdfs dfs -ls /data"
   ]
  },
  {
   "cell_type": "code",
   "execution_count": 6,
   "id": "94d1e9f3-933f-4a6f-bec2-05048450e8d2",
   "metadata": {},
   "outputs": [
    {
     "name": "stderr",
     "output_type": "stream",
     "text": [
      "Setting default log level to \"WARN\".\n",
      "To adjust logging level use sc.setLogLevel(newLevel). For SparkR, use setLogLevel(newLevel).\n",
      "24/02/03 13:48:09 WARN NativeCodeLoader: Unable to load native-hadoop library for your platform... using builtin-java classes where applicable\n",
      "/users/lyang439/.local/lib/python3.7/site-packages/pyspark/context.py:317: FutureWarning: Python 3.7 support is deprecated in Spark 3.4.\n",
      "  warnings.warn(\"Python 3.7 support is deprecated in Spark 3.4.\", FutureWarning)\n",
      "                                                                                \r"
     ]
    }
   ],
   "source": [
    "from pyspark.sql import SparkSession\n",
    "\n",
    "# Initialize SparkSession\n",
    "spark = SparkSession.builder \\\n",
    "    .appName(\"Sort IoT Data\") \\\n",
    "    .getOrCreate()\n",
    "\n",
    "# Load the data\n",
    "df = spark.read.csv('hdfs://10.10.1.1:9000/data/export.csv', inferSchema=True, header=True)\n",
    "\n",
    "# Sort the data\n",
    "sorted_df = df.sort(['cca2', 'timestamp'])\n",
    "\n",
    "# Show or save the results\n",
    "#sorted_df.show()\n",
    "sorted_df.write.csv('hdfs://10.10.1.1:9000/data/export_sorted.csv', mode='overwrite', header=True)\n",
    "\n",
    "spark.stop()"
   ]
  },
  {
   "cell_type": "code",
   "execution_count": null,
   "id": "a3942324-b256-41fa-9ed3-62c69371de5e",
   "metadata": {},
   "outputs": [],
   "source": [
    "!hdfs dfs -cat /data/export_sorted.csv/*"
   ]
  }
 ],
 "metadata": {
  "kernelspec": {
   "display_name": "Python 3 (ipykernel)",
   "language": "python",
   "name": "python3"
  },
  "language_info": {
   "codemirror_mode": {
    "name": "ipython",
    "version": 3
   },
   "file_extension": ".py",
   "mimetype": "text/x-python",
   "name": "python",
   "nbconvert_exporter": "python",
   "pygments_lexer": "ipython3",
   "version": "3.7.5"
  }
 },
 "nbformat": 4,
 "nbformat_minor": 5
}
